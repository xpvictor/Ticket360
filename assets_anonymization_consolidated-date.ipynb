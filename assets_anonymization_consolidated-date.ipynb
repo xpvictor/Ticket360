{
 "cells": [
  {
   "cell_type": "code",
   "execution_count": 9,
   "id": "bfb3fbad",
   "metadata": {},
   "outputs": [],
   "source": [
    "import hashlib\n",
    "import json \n",
    "import pandas as pd\n",
    "from pathlib import Path\n",
    "from dotenv import load_dotenv\n",
    "import os"
   ]
  },
  {
   "cell_type": "code",
   "execution_count": 8,
   "id": "df21e8e6",
   "metadata": {},
   "outputs": [],
   "source": [
    "consolidated_file = \"ticket_data/consolidated.json\"\n",
    "anonymezed_file = \"ticket_data/consolidated_anon.json\"\n",
    "hash_map_file = \"ticket_data/hash_map.json\"\n",
    "\n",
    "sensitive_cols = [\"customer.document\", \"customer.email\", \"customer.cellPhoneNumber\"]"
   ]
  },
  {
   "cell_type": "code",
   "execution_count": 10,
   "id": "4e783ab0",
   "metadata": {},
   "outputs": [],
   "source": [
    "load_dotenv()\n",
    "SALT = os.getenv(\"SALT\")\n",
    "\n",
    "if not SALT:\n",
    "    raise ValueError(\"The SALT variable was not found\")"
   ]
  },
  {
   "cell_type": "code",
   "execution_count": 11,
   "id": "920ddfd2",
   "metadata": {},
   "outputs": [],
   "source": [
    "#Function responsible for generate unique value hash with salt\n",
    "def generate_hash(value: str, salt:str) -> str:\n",
    "    if pd.isna(value) or value is None:\n",
    "        return None \n",
    "    value_str = str(value)\n",
    "    return hashlib.sha256((value_str + salt).encode(\"utf-8\")).hexdigest()"
   ]
  },
  {
   "cell_type": "code",
   "execution_count": 12,
   "id": "2b2f626d",
   "metadata": {},
   "outputs": [],
   "source": [
    "#Load or start the hash_map\n",
    "def load_hash_map():\n",
    "    if os.path.exists(hash_map_file):\n",
    "        with open(hash_map_file,\"r\", encoding=\"utf-8\") as f:\n",
    "            return json.load(f)\n",
    "    return {}"
   ]
  },
  {
   "cell_type": "code",
   "execution_count": 13,
   "id": "06dec6f2",
   "metadata": {},
   "outputs": [],
   "source": [
    "def save_hash_map(hash_map: dict):\n",
    "    with open(hash_map_file, \"w\", encoding=\"utf-8\") as f:\n",
    "        json.dump(hash_map, f, indent=2, ensure_ascii=False)"
   ]
  },
  {
   "cell_type": "code",
   "execution_count": 16,
   "id": "4f27fa1e",
   "metadata": {},
   "outputs": [],
   "source": [
    "def anonymeze_date():\n",
    "    df = pd.read_json(consolidated_file)\n",
    "\n",
    "    sensitive_columns = sensitive_cols\n",
    "\n",
    "    hash_map = load_hash_map()\n",
    "\n",
    "    for col in sensitive_columns:\n",
    "        if col in df.columns:\n",
    "            new_values = []\n",
    "            for val in df[col]:\n",
    "                if pd.isna(val) or val is None:\n",
    "                    new_values.append(val)  # mantém nulos\n",
    "                else:\n",
    "                    val_str = str(val)\n",
    "                    if val_str in hash_map:\n",
    "                        new_values.append(hash_map[val_str])\n",
    "                    else:\n",
    "                        hashed = generate_hash(val_str, SALT)\n",
    "                        hash_map[val_str] = hashed\n",
    "                        new_values.append(hashed)\n",
    "            df[col] = new_values\n",
    "\n",
    "    # Salvar arquivo anonimizado\n",
    "    df.to_json(anonymezed_file, orient=\"records\", indent=2, force_ascii=False)\n",
    "\n",
    "    # Atualizar hash_map\n",
    "    save_hash_map(hash_map)\n",
    "\n",
    "    print(f\"File anonymized save in: {anonymezed_file}\")\n",
    "    print(f\"hash map updated in: {hash_map_file}\")"
   ]
  },
  {
   "cell_type": "code",
   "execution_count": null,
   "id": "b3ec563d",
   "metadata": {},
   "outputs": [
    {
     "name": "stdout",
     "output_type": "stream",
     "text": [
      "File anonymized save in: ticket_data/consolidated_anon.json\n",
      "hash map updated in: ticket_data/hash_map.json\n"
     ]
    }
   ],
   "source": [
    "if __name__ == \"__main__\":\n",
    "    \n",
    "    anonymeze_date()"
   ]
  }
 ],
 "metadata": {
  "kernelspec": {
   "display_name": "Python 3",
   "language": "python",
   "name": "python3"
  },
  "language_info": {
   "codemirror_mode": {
    "name": "ipython",
    "version": 3
   },
   "file_extension": ".py",
   "mimetype": "text/x-python",
   "name": "python",
   "nbconvert_exporter": "python",
   "pygments_lexer": "ipython3",
   "version": "3.12.10"
  }
 },
 "nbformat": 4,
 "nbformat_minor": 5
}
